{
 "cells": [
  {
   "cell_type": "code",
   "execution_count": 1,
   "id": "bc204326-a79f-4c2b-a5d5-42fec01ec07e",
   "metadata": {},
   "outputs": [],
   "source": [
    "import pandas as pd\n",
    "from sklearn.model_selection import StratifiedKFold\n",
    "from sklearn.pipeline import Pipeline\n",
    "from sklearn.preprocessing import StandardScaler\n",
    "from sklearn.linear_model import LogisticRegression\n",
    "from sklearn.ensemble import RandomForestClassifier\n",
    "from sklearn.metrics import roc_auc_score\n",
    "from xgboost import XGBClassifier"
   ]
  },
  {
   "cell_type": "code",
   "execution_count": 3,
   "id": "bdfa6584-4bd0-438f-8e15-3fefaf0f8da5",
   "metadata": {},
   "outputs": [],
   "source": [
    "# stored_df = pd Dataframe"
   ]
  },
  {
   "cell_type": "code",
   "execution_count": null,
   "id": "a563e6de-134c-4ef2-9dff-3d6d7364e8f8",
   "metadata": {},
   "outputs": [],
   "source": [
    "X = stored_df.drop('isfaller', axis=1)\n",
    "y = stored_df['isfaller']\n",
    "\n",
    "pipelines = {\n",
    "    'rf': Pipeline([\n",
    "        ('scaler', StandardScaler()), \n",
    "        ('clf', RandomForestClassifier(\n",
    "            n_estimators=1858, \n",
    "            max_depth=53, \n",
    "            min_samples_split=16, \n",
    "            min_samples_leaf=3, \n",
    "            max_features='log2')\n",
    "        )\n",
    "    ]),\n",
    "    'log_reg': Pipeline([('scaler', StandardScaler()), ('clf', LogisticRegression(C=0.7744747828794467, max_iter= 2142, solver= 'liblinear'))]),\n",
    "    'xgb': Pipeline([('scaler', StandardScaler()), ('clf', XGBClassifier(eval_metric='auc', use_label_encoder=False))]),\n",
    "}\n",
    "\n",
    "\n",
    "cv = StratifiedKFold(n_splits=5, shuffle=True, random_state=42)"
   ]
  },
  {
   "cell_type": "code",
   "execution_count": null,
   "id": "2421935b-21a7-4b70-a8db-b1e790f0ace9",
   "metadata": {},
   "outputs": [],
   "source": [
    "def train_and_evaluate(pipelines, X, y, cv):\n",
    "    results = {}\n",
    "    for pipeline_name, pipeline in pipelines.items():\n",
    "        print(f'Training {pipeline_name}...')\n",
    "        fold_results = []\n",
    "        auc_scores = []\n",
    "        \n",
    "        for train_idx, test_idx in cv.split(X, y):\n",
    "            X_train, X_test = X.iloc[train_idx], X.iloc[test_idx]\n",
    "            y_train, y_test = y.iloc[train_idx], y.iloc[test_idx]\n",
    "            \n",
    "            pipeline.fit(X_train, y_train)\n",
    "            \n",
    "            test_score = pipeline.score(X_test, y_test)\n",
    "            y_pred_prob = pipeline.predict_proba(X_test)[:, 1]\n",
    "            auc_score = roc_auc_score(y_test, y_pred_prob)\n",
    "            \n",
    "            fold_results.append(test_score)\n",
    "            auc_scores.append(auc_score)\n",
    "            \n",
    "            print(f'Fold Test Accuracy: {test_score:.4f}, AUC: {auc_score:.4f}')\n",
    "        \n",
    "        results[pipeline_name] = {\n",
    "            'fold_results': fold_results,\n",
    "            'mean_test_score': sum(fold_results) / len(fold_results),\n",
    "            'std_test_score': pd.Series(fold_results).std(),\n",
    "            'auc_scores': auc_scores,\n",
    "            'mean_auc_score': sum(auc_scores) / len(auc_scores),\n",
    "            'std_auc_score': pd.Series(auc_scores).std()\n",
    "        }\n",
    "        \n",
    "        print(f'{pipeline_name} - Mean Test Accuracy: {results[pipeline_name][\"mean_test_score\"]:.4f}, Std Test Accuracy: {results[pipeline_name][\"std_test_score\"]:.4f}')\n",
    "        print(f'{pipeline_name} - Mean AUC: {results[pipeline_name][\"mean_auc_score\"]:.4f}, Std AUC: {results[pipeline_name][\"std_auc_score\"]:.4f}')\n",
    "        \n",
    "    return results\n",
    "\n",
    "results = train_and_evaluate(pipelines, X, y, cv)"
   ]
  }
 ],
 "metadata": {
  "kernelspec": {
   "display_name": "Python 3 (ipykernel)",
   "language": "python",
   "name": "python3"
  },
  "language_info": {
   "codemirror_mode": {
    "name": "ipython",
    "version": 3
   },
   "file_extension": ".py",
   "mimetype": "text/x-python",
   "name": "python",
   "nbconvert_exporter": "python",
   "pygments_lexer": "ipython3",
   "version": "3.11.7"
  }
 },
 "nbformat": 4,
 "nbformat_minor": 5
}
